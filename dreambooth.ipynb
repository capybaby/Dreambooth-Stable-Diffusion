{
 "cells": [
  {
   "cell_type": "code",
   "execution_count": null,
   "id": "ed29c677",
   "metadata": {},
   "outputs": [],
   "source": [
    "#  CHOOSE MODEL\n",
    "# V1\n",
    "huggingface_repo_id=\"CompVis/stable-diffusion-v-1-4-original\"\n",
    "repo_filename=\"sd-v1-4.ckpt\"\n",
    "\n",
    "# V2\n",
    "# huggingface_repo_id = 'stabilityai/stable-diffusion-2-1'\n",
    "# repo_filename = 'v2-1_768-nonema-pruned.ckpt'\n",
    "\n",
    "# HUGGINGFACE TOKEN\n",
    "huggingface_token = 'TOKEN_HERE'\n",
    "\n",
    "\n",
    "# Training\n",
    "dataset=\"style_ddim\" #@param [\"man_euler\", \"man_unsplash\", \"person_ddim\", \"woman_ddim\", \"blonde_woman\"]\n",
    "\n",
    "token = \"PROJECT_NAME\"\n",
    "\n",
    "# This isn't used for training, just to help you remember what your trained into the model.\n",
    "project_name = token + \"_style\"\n",
    "\n",
    "# MAX STEPS\n",
    "# How many steps do you want to train for?\n",
    "max_training_steps = 1800\n",
    "\n",
    "# Match class_word to the category of the regularization images you chose above.\n",
    "class_word = \"style\" # typical uses are \"man\", \"person\", \"woman\"\n",
    "\n",
    "# This is the unique token you are incorporating into the stable diffusion model.\n",
    "\n",
    "\n",
    "reg_data_root = \"/workspace/Dreambooth-Stable-Diffusion/regularization_images/\" + dataset\n",
    "gpus=\"0,1,\""
   ]
  },
  {
   "cell_type": "markdown",
   "id": "aa2c1ada",
   "metadata": {
    "id": "aa2c1ada"
   },
   "source": [
    "# Dreambooth\n",
    "### Notebook implementation by Joe Penna (@MysteryGuitarM on Twitter) - Improvements by David Bielejeski\n",
    "\n",
    "### Instructions\n",
    "- Sign up for RunPod here: https://runpod.io/?ref=n8yfwyum\n",
    "    - Note: That's my personal referral link. Please don't use it if we are mortal enemies.\n",
    "\n",
    "- Click *Deploy* on either `SECURE CLOUD` or `COMMUNITY CLOUD`\n",
    "\n",
    "- Follow the rest of the instructions in this video: https://www.youtube.com/watch?v=7m__xadX0z0#t=5m33.1s\n",
    "\n",
    "Latest information on:\n",
    "https://github.com/JoePenna/Dreambooth-Stable-Diffusion"
   ]
  },
  {
   "cell_type": "markdown",
   "id": "7b971cc0",
   "metadata": {
    "id": "7b971cc0"
   },
   "source": [
    "## Build Environment"
   ]
  },
  {
   "cell_type": "code",
   "execution_count": null,
   "id": "9e1bc458-091b-42f4-a125-c3f0df20f29d",
   "metadata": {
    "id": "9e1bc458-091b-42f4-a125-c3f0df20f29d",
    "scrolled": true
   },
   "outputs": [],
   "source": [
    "# BUILD ENV\n",
    "!pip install omegaconf\n",
    "!pip install einops\n",
    "!pip install pytorch-lightning==1.6.5\n",
    "!pip install test-tube\n",
    "!pip install transformers\n",
    "!pip install kornia\n",
    "!pip install -e git+https://github.com/CompVis/taming-transformers.git@master#egg=taming-transformers\n",
    "!pip install -e git+https://github.com/openai/CLIP.git@main#egg=clip\n",
    "!pip install setuptools==59.5.0\n",
    "!pip install pillow==9.0.1\n",
    "!pip install torchmetrics==0.6.0\n",
    "!pip install -e .\n",
    "!pip install protobuf==3.20.1\n",
    "!pip install gdown\n",
    "!pip install -qq diffusers[\"training\"]==0.3.0 transformers ftfy\n",
    "!pip install -qq \"ipywidgets>=7,<8\"\n",
    "!pip install huggingface_hub==0.11.0\n",
    "!pip install ipywidgets==7.7.1\n",
    "!pip install captionizer==1.0.1\n"
   ]
  },
  {
   "cell_type": "code",
   "execution_count": null,
   "metadata": {
    "collapsed": false
   },
   "outputs": [],
   "source": [
    "# Download the 1.4 sd model\n",
    "from IPython.display import clear_output\n",
    "\n",
    "from huggingface_hub import hf_hub_download\n",
    "downloaded_model_path = hf_hub_download(\n",
    " repo_id=huggingface_repo_id,\n",
    " filename=repo_filename,\n",
    " token=huggingface_token,\n",
    ")\n",
    "\n",
    "# Move the sd-v1-4.ckpt to the root of this directory as \"model.ckpt\"\n",
    "actual_locations_of_model_blob = !readlink -f {downloaded_model_path}\n",
    "!mv {actual_locations_of_model_blob[-1]} model.ckpt\n",
    "clear_output()\n",
    "print(\"✅ model.ckpt successfully downloaded\")"
   ]
  },
  {
   "attachments": {},
   "cell_type": "markdown",
   "id": "dfe2c32b",
   "metadata": {},
   "source": [
    "\n",
    "# Regularization Images (Skip this section if you are uploading your own or using the provided images)\n",
    "\n",
    "Training teaches your new model both your token but re-trains your class simultaneously.\n",
    "\n",
    "From cursory testing, it does not seem like reg images affect the model too much. However, they do affect your class greatly, which will in turn affect your generations.\n",
    "\n",
    "You can either generate your images here, or use the repos below to quickly download 1500 images.\n"
   ]
  },
  {
   "cell_type": "code",
   "execution_count": 1,
   "id": "a8246386",
   "metadata": {},
   "outputs": [
    {
     "name": "stdout",
     "output_type": "stream",
     "text": [
      "Traceback (most recent call last):\n",
      "  File \"/Users/gabybustamante/dev/Dreambooth-Stable-Diffusion/scripts/stable_txt2img.py\", line 2, in <module>\n",
      "    import torch\n",
      "ModuleNotFoundError: No module named 'torch'\n",
      "zsh:1: no matches found: outputs/txt2img-samples/*.png\n"
     ]
    }
   ],
   "source": [
    "# GENERATE 200 images - Optional\n",
    "self_generated_files_prompt = \"person\" #@param {type:\"string\"}\n",
    "self_generated_files_count = 200 #@param {type:\"integer\"}\n",
    "\n",
    "!python scripts/stable_txt2img.py \\\n",
    " --seed 10 \\\n",
    " --ddim_eta 0.0 \\\n",
    " --n_samples 1 \\\n",
    " --n_iter {self_generated_files_count} \\\n",
    " --scale 10.0 \\\n",
    " --ddim_steps 50 \\\n",
    " --ckpt model.ckpt \\\n",
    " --prompt {self_generated_files_prompt}\n",
    "\n",
    "dataset=self_generated_files_prompt\n",
    "\n",
    "!mkdir -p regularization_images/{dataset}\n",
    "!mv outputs/txt2img-samples/*.png regularization_images/{dataset}"
   ]
  },
  {
   "cell_type": "code",
   "execution_count": null,
   "id": "6c4661cd",
   "metadata": {},
   "outputs": [],
   "source": [
    "# Zip up the files for downloading and reuse.\n",
    "# Download this file locally so you can reuse during another training on this dataset\n",
    "!apt-get install -y zip\n",
    "!zip -r regularization_images.zip regularization_images/{dataset}"
   ]
  },
  {
   "cell_type": "markdown",
   "metadata": {
    "collapsed": false
   },
   "source": [
    "# Download pre-generated regularization images\n",
    "We've created the following image sets\n",
    "\n",
    "`man_euler` - provided by Niko Pueringer (Corridor Digital) - euler @ 40 steps, CFG 7.5\n",
    "`man_unsplash` - pictures from various photographers\n",
    "`person_ddim`\n",
    "`woman_ddim` - provided by David Bielejeski - ddim @ 50 steps, CFG 10.0\n",
    "`person_ddim` is recommended"
   ]
  },
  {
   "cell_type": "code",
   "execution_count": 1,
   "id": "e7EydXCjOV1v",
   "metadata": {
    "id": "e7EydXCjOV1v"
   },
   "outputs": [],
   "source": [
    "#Download Regularization Images\n",
    "!git clone https://github.com/aitrepreneur/SD-Regularization-Images-Style-Dreambooth\n",
    "\n",
    "!mkdir -p regularization_images/{dataset}\n",
    "!mv -v SD-Regularization-Images-Style-Dreambooth/{dataset}/*.* regularization_images/{dataset}\n",
    "clear_output()"
   ]
  },
  {
   "cell_type": "markdown",
   "metadata": {
    "collapsed": false
   },
   "source": [
    "# Upload your training images\n",
    "Upload 10-20 images of someone to\n",
    "\n",
    "```\n",
    "/workspace/Dreambooth-Stable-Diffusion/training_images\n",
    "```\n",
    "\n",
    "WARNING: Be sure to upload an *even* amount of images, otherwise the training inexplicably stops at 1500 steps.\n",
    "\n",
    "*   2-3 full body\n",
    "*   3-5 upper body\n",
    "*   5-12 close-up on face\n",
    "\n",
    "The images should be:\n",
    "\n",
    "- as close as possible to the kind of images you're trying to make"
   ]
  },
  {
   "cell_type": "code",
   "execution_count": null,
   "metadata": {
    "collapsed": false
   },
   "outputs": [],
   "source": [
    "#@title Download and check the images you have just added\n",
    "import os\n",
    "import requests\n",
    "from io import BytesIO\n",
    "from PIL import Image\n",
    "import glob\n",
    "\n",
    "def image_grid(imgs, rows, cols):\n",
    " assert len(imgs) == rows*cols\n",
    "\n",
    " w, h = imgs[0].size\n",
    " grid = Image.new('RGB', size=(cols*w, rows*h))\n",
    " grid_w, grid_h = grid.size\n",
    "\n",
    " for i, img in enumerate(imgs):\n",
    "  grid.paste(img, box=(i%cols*w, i//cols*h))\n",
    " return grid\n",
    "\n",
    "save_path = \"./training_images\"\n",
    "if not os.path.exists(save_path):\n",
    " os.mkdir(save_path)\n",
    "\n",
    "images = []\n",
    "for f in glob.iglob(\"/workspace/Dreambooth-Stable-Diffusion/original_images/*\"):\n",
    "    im = Image.open(f)\n",
    "    images.append(im)\n",
    "    \n",
    "\n",
    "[image.save(f\"{save_path}/{i}.png\", format=\"png\") for i, image in enumerate(images)]\n",
    "image_grid(images, 1, len(images))"
   ]
  },
  {
   "cell_type": "markdown",
   "id": "ad4e50df",
   "metadata": {
    "id": "ad4e50df"
   },
   "source": [
    "## Training\n",
    "\n",
    "If training a person or subject, keep an eye on your project's `logs/{folder}/images/train/samples_scaled_gs-00xxxx` generations.\n",
    "\n",
    "If training a style, keep an eye on your project's `logs/{folder}/images/train/samples_gs-00xxxx` generations."
   ]
  },
  {
   "cell_type": "code",
   "execution_count": null,
   "id": "6fa5dd66-2ca0-4819-907e-802e25583ae6",
   "metadata": {
    "id": "6fa5dd66-2ca0-4819-907e-802e25583ae6",
    "tags": []
   },
   "outputs": [],
   "source": [
    "\n",
    "!rm -rf training_images/.ipynb_checkpoints\n",
    "!python \"main.py\" \\\n",
    " --base configs/stable-diffusion/v1-finetune_unfrozen.yaml \\\n",
    " -t \\\n",
    " --actual_resume \"model.ckpt\" \\\n",
    " --reg_data_root \"{reg_data_root}\" \\\n",
    " -n \"{project_name}\" \\\n",
    " --gpus {gpus} \\\n",
    " --data_root \"/workspace/Dreambooth-Stable-Diffusion/training_images\" \\\n",
    " --max_training_steps {max_training_steps} \\\n",
    " --class_word \"{class_word}\" \\\n",
    " --token \"{token}\" \\\n",
    " --no-test"
   ]
  },
  {
   "cell_type": "markdown",
   "id": "dc49d0bd",
   "metadata": {},
   "source": [
    "## Copy and name the checkpoint file"
   ]
  },
  {
   "cell_type": "code",
   "execution_count": null,
   "metadata": {
    "collapsed": false
   },
   "outputs": [],
   "source": [
    "# Copy the checkpoint into our `trained_models` folder\n",
    "\n",
    "directory_paths = !ls -d logs/*\n",
    "last_checkpoint_file = directory_paths[-1] + \"/checkpoints/last.ckpt\"\n",
    "training_images = !find training_images/*\n",
    "date_string = !date +\"%Y-%m-%dT%H-%M-%S\"\n",
    "file_name = date_string[-1] + \"_\" + project_name + \"_\" + str(len(training_images)) + \"_training_images_\" +  str(max_training_steps) + \"_max_training_steps_\" + token + \"_token_\" + class_word + \"_class_word.ckpt\"\n",
    "\n",
    "file_name = file_name.replace(\" \", \"_\")\n",
    "\n",
    "!mkdir -p trained_models\n",
    "!mv \"{last_checkpoint_file}\" \"trained_models/{file_name}\"\n",
    "\n",
    "print(\"Download your trained model file from trained_models/\" + file_name + \" and use in your favorite Stable Diffusion repo!\")"
   ]
  },
  {
   "cell_type": "markdown",
   "id": "9a90ac5c",
   "metadata": {},
   "source": [
    "# Big Important Note!\n",
    "\n",
    "The way to use your token is `<token> <class>` ie `joepenna person` and not just `joepenna`"
   ]
  },
  {
   "cell_type": "markdown",
   "id": "d28d0139",
   "metadata": {},
   "source": [
    "## Generate Images With Your Trained Model!"
   ]
  },
  {
   "cell_type": "code",
   "execution_count": null,
   "id": "80ddb03b",
   "metadata": {},
   "outputs": [],
   "source": [
    "import glob\n",
    "\n",
    "path_to_checkpoints = \"/workspace/Dreambooth-Stable-Diffusion/checkpoints/capyart_style/*\"\n",
    "prompts = [\n",
    "    \"a house on a hill in capyart style\",\n",
    "    \"a kitchen in capyart style\",\n",
    "    \"a bedroom in capyart style\",\n",
    "    \"a bathroom in capyart style\",\n",
    "    \"a living room in capyart style\",\n",
    "    \"a dining room in capyart style\",\n",
    "    \"a hallway in capyart style\",\n",
    "    \"a garden in capyart style\",\n",
    "    \"a pool in capyart style\",\n",
    "    \"a beach in capyart style\",\n",
    "    \"a forest in capyart style\",\n",
    "    \"a mountain in capyart style\",\n",
    "    \"a school in capyart style\",\n",
    "]\n",
    "prompt = \"|\".join(prompts)\n",
    "\n",
    "for f in glob.iglob(path_to_checkpoints):\n",
    "    !python scripts/stable_txt2img.py \\\n",
    "    --ddim_eta 0.0 \\\n",
    "    --n_samples 1 \\\n",
    "    --n_iter 4 \\\n",
    "    --scale 7.0 \\\n",
    "    --ddim_steps 50 \\\n",
    "    --ckpt \"{f}\" \\\n",
    "    --prompt \"{prompt}\""
   ]
  },
  {
   "attachments": {},
   "cell_type": "markdown",
   "id": "a7793f37",
   "metadata": {},
   "source": [
    "Or in the command line:\n",
    "\n",
    "```\n",
    "\n",
    "for element in $(ls /workspace/Dreambooth-Stable-Diffusion/checkpoints/capyart_style/*); do\n",
    "    python scripts/stable_txt2img.py \\\n",
    "    --ddim_eta 0.0 \\\n",
    "    --n_samples 1 \\\n",
    "    --n_iter 4 \\\n",
    "    --scale 7.0 \\\n",
    "    --ddim_steps 50 \\\n",
    "    --ckpt \"${element}\" \\\n",
    "    --prompt \"a house on a hill in capyart style|a kitchen in capyart style|a bedroom in capyart style|a bathroom in capyart style|a living room in capyart style|a dining room in capyart style|a hallway in capyart style|a garden in capyart style|a pool in capyart style|a beach in capyart style|a forest in capyart style|a mountain in capyart style|a school in capyart style\"\n",
    "done\n",
    "```"
   ]
  },
  {
   "attachments": {},
   "cell_type": "markdown",
   "id": "e199d2dc",
   "metadata": {},
   "source": [
    "To upload into gcp bucket:\n",
    "0 - open terminal\n",
    "1 - get json key from gcp IAM and add it to path_to_key\n",
    "2- create venv and activate it\n",
    "```\n",
    "pip install virtualenv\n",
    "virtualenv /workspace/.env\n",
    "source /workspace/.env/bin/activate\n",
    "```\n",
    "\n",
    "3 - install dependency\n",
    "```\n",
    "pip install google-cloud-storage\n",
    "```\n",
    "\n",
    "\n",
    "```\n",
    "from google.cloud import storage\n",
    "import glob\n",
    "import os\n",
    "\n",
    "path_to_key = '/workspace/some_path.json'\n",
    "path_to_checkpoints = '/workspace/Dreambooth-Stable-Diffusion/checkpoints/capyart_style/*'\n",
    "bucket_path = 'capyart_animation_reg_style'\n",
    "client = storage.Client.from_service_account_json(path_to_key)\n",
    "bucket = client.get_bucket('capyart')\n",
    "rel_paths = glob.glob(path_to_checkpoints, recursive=True)\n",
    "\n",
    "for local_file in rel_paths:\n",
    "     remote_path = f'{bucket_path}/{local_file.split(os.sep)[-1]}'\n",
    "     print(remote_path)\n",
    "     if os.path.isfile(local_file):\n",
    "         blob = bucket.blob(remote_path)\n",
    "         blob.upload_from_filename(local_file)\n",
    "```"
   ]
  },
  {
   "cell_type": "markdown",
   "id": "b3dd29fb",
   "metadata": {},
   "source": []
  }
 ],
 "metadata": {
  "colab": {
   "collapsed_sections": [],
   "provenance": []
  },
  "kernelspec": {
   "display_name": "Python 3",
   "language": "python",
   "name": "python3"
  },
  "language_info": {
   "codemirror_mode": {
    "name": "ipython",
    "version": 3
   },
   "file_extension": ".py",
   "mimetype": "text/x-python",
   "name": "python",
   "nbconvert_exporter": "python",
   "pygments_lexer": "ipython3",
   "version": "3.10.6 (main, Nov 20 2022, 15:26:42) [Clang 13.1.6 (clang-1316.0.21.2.5)]"
  },
  "vscode": {
   "interpreter": {
    "hash": "2a1add8596b687f10044c8b930459b3ea88de931ad5dd25c84605465f189a840"
   }
  }
 },
 "nbformat": 4,
 "nbformat_minor": 5
}
